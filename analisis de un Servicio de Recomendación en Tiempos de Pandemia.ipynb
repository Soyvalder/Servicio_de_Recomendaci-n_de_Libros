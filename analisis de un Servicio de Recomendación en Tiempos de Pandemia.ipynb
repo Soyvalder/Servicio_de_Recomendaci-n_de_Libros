{
 "cells": [
  {
   "cell_type": "markdown",
   "metadata": {},
   "source": [
    "# ¡Hola Valerio! 😊\n",
    "\n",
    "Mi nombre es **Alejandro Castellanos** y hoy tengo el placer de ser el revisor de tu proyecto.\n",
    "\n",
    "Voy a revisar todo tu código con detalle, buscando tanto los puntos fuertes como aquellos en los que podrías mejorar. Te dejaré comentarios a lo largo del notebook, destacando lo que has hecho bien y sugiriendo ajustes donde sea necesario. Si encuentro algún error, no te preocupes, te lo haré saber de forma clara y te daré información útil para que puedas corregirlo en la próxima. Si en algún punto tienes comentarios, siéntete libre de dejarlos también.\n",
    "\n",
    "\n",
    "Encontrarás mis comentarios específicos dentro de cajas verdes, amarillas o rojas, es muy importante que no muevas, modifiques o borres mis comentarios, con el fin de tener un seguimiento adecuado de tu proceso.:\n",
    "\n",
    "\n",
    "<div class=\"alert alert-block alert-success\">\n",
    "<b>Comentario del revisor</b> <a class=“tocSkip”></a>\n",
    "Si todo está perfecto.\n",
    "</div>\n",
    "\n",
    "<div class=\"alert alert-block alert-warning\">\n",
    "<b>Comentario del revisor</b> <a class=“tocSkip”></a>\n",
    "Si tu código está bien pero se puede mejorar o hay algún detalle que le hace falta.\n",
    "</div>\n",
    "\n",
    "<div class=\"alert alert-block alert-danger\">\n",
    "<b>Comentario del revisor</b> <a class=“tocSkip”></a>\n",
    "Si de pronto hace falta algo o existe algún problema con tu código o conclusiones.\n",
    "</div>\n",
    "\n",
    "Puedes responderme de esta forma:\n",
    "<div class=\"alert alert-block alert-info\">\n",
    "<b>Respuesta del estudiante</b> <a class=“tocSkip”></a>\n",
    "</div>\n",
    "\n",
    "A continuación te dejaré un comentario general con mi valoración del proyecto. **¡Mi objetivo es que sigas aprendiendo y mejorando con cada paso!**"
   ]
  },
  {
   "cell_type": "markdown",
   "metadata": {},
   "source": [
    "----"
   ]
  },
  {
   "cell_type": "markdown",
   "metadata": {},
   "source": [
    "<div class=\"alert alert-block alert-success\">\n",
    "<b>Comentario General del revisor (1ra Iteración)</b> <a class=“tocSkip”></a>\n",
    "\n",
    "Valerio has cumplido de manera sobresaliente con todos los objetivos propuestos, demostrando una capacidad técnica y analítica realmente destacable. Tu dominio de SQL es extraordinario, evidenciando un manejo experto que va más allá de las cláusulas básicas, integrando subtablas y técnicas avanzadas de agrupamiento de datos con una gran precisión. Éxitos en tu próximo Sprint 🚀\n",
    "    \n",
    "*Estado del Proyecto:* **Aprobado**\n",
    "\n",
    "</div>"
   ]
  },
  {
   "cell_type": "markdown",
   "metadata": {},
   "source": [
    "----"
   ]
  },
  {
   "cell_type": "code",
   "execution_count": 1,
   "metadata": {},
   "outputs": [],
   "source": [
    "# import libraries \n",
    "import pandas as pd \n",
    "from sqlalchemy import create_engine\n",
    "from sqlalchemy import text"
   ]
  },
  {
   "cell_type": "markdown",
   "metadata": {},
   "source": [
    "# proyecto SQL:\n",
    "La pandemia de coronavirus cambió drásticamente los hábitos de las personas, llevándolas a pasar más tiempo en casa, lo que incrementó el interés por la lectura. Esto ha impulsado a startups a crear aplicaciones para los amantes de los libros.\n"
   ]
  },
  {
   "cell_type": "markdown",
   "metadata": {},
   "source": [
    "Objetivo:\n",
    "Analizar una base de datos que contiene información sobre libros, editoriales, autores, calificaciones y reseñas de clientes, con el fin de generar una propuesta de valor para un nuevo producto en este mercado emergente."
   ]
  },
  {
   "cell_type": "code",
   "execution_count": 2,
   "metadata": {},
   "outputs": [],
   "source": [
    "# importar librerías\n",
    "import pandas as pd\n",
    "from sqlalchemy import create_engine\n",
    "\n",
    "\n",
    "db_config = {'user': 'practicum_student',         # nombre de usuario\n",
    "             'pwd': 's65BlTKV3faNIGhmvJVzOqhs', # contraseña\n",
    "             'host': 'rc1b-wcoijxj3yxfsf3fs.mdb.yandexcloud.net',\n",
    "             'port': 6432,              # puerto de conexión\n",
    "             'db': 'data-analyst-final-project-db'}          # nombre de la base de datos\n",
    "\n",
    "connection_string = 'postgresql://{}:{}@{}:{}/{}'.format(db_config['user'],\n",
    "                                                                     db_config['pwd'],\n",
    "                                                                       db_config['host'],\n",
    "                                                                       db_config['port'],\n",
    "                                                                       db_config['db'])\n",
    "\n",
    "engine = create_engine(connection_string, connect_args={'sslmode':'require'})"
   ]
  },
  {
   "cell_type": "code",
   "execution_count": 3,
   "metadata": {},
   "outputs": [
    {
     "name": "stdout",
     "output_type": "stream",
     "text": [
      "Versión de la base de datos: PostgreSQL 14.12 (Ubuntu 14.12-201-yandex.53249.ae65d30249) on x86_64-pc-linux-gnu, compiled by gcc (Ubuntu 7.5.0-3ubuntu1~18.04) 7.5.0, 64-bit\n"
     ]
    }
   ],
   "source": [
    "# Conectar y ejecutar una consulta\n",
    "with engine.connect() as connection:\n",
    "    result = connection.execute(text(\"SELECT version();\"))\n",
    "    db_version = result.fetchone()\n",
    "    print(\"Versión de la base de datos:\", db_version[0])"
   ]
  },
  {
   "cell_type": "markdown",
   "metadata": {},
   "source": [
    "<div class=\"alert alert-block alert-warning\">\n",
    "<b>Comentario del revisor (1ra Iteración)</b> <a class=“tocSkip”></a>\n",
    "\n",
    "Siempre es recomendable realizar una previsualización de las tablas con las que vas a trabjar, para indetificar su estructura y contenido general.\n",
    "\n",
    "</div>"
   ]
  },
  {
   "cell_type": "markdown",
   "metadata": {},
   "source": [
    "# Ejercicios: "
   ]
  },
  {
   "cell_type": "markdown",
   "metadata": {},
   "source": [
    "Encuentra el número de libros publicados después del 1 de enero de 2000."
   ]
  },
  {
   "cell_type": "code",
   "execution_count": 4,
   "metadata": {},
   "outputs": [
    {
     "name": "stdout",
     "output_type": "stream",
     "text": [
      "Número de libros publicados después del 1 de enero de 2000: 819\n"
     ]
    }
   ],
   "source": [
    "# Consulta para contar libros publicados después del 1 de enero de 2000\n",
    "query = \"\"\"\n",
    "SELECT COUNT(*) AS num_books\n",
    "FROM books\n",
    "WHERE publication_date > '2000-01-01';\n",
    "\"\"\"\n",
    "\n",
    "# Ejecutar la consulta y guardar el resultado en un DataFrame\n",
    "with engine.connect() as connection:\n",
    "    result = pd.read_sql(query, connection)\n",
    "\n",
    "# Mostrar el resultado\n",
    "print(\"Número de libros publicados después del 1 de enero de 2000:\", result['num_books'][0])"
   ]
  },
  {
   "cell_type": "markdown",
   "metadata": {},
   "source": [
    "Este análisis permite evaluar la producción editorial reciente, lo que puede ser útil para entender tendencias y cambios en la industria del libro."
   ]
  },
  {
   "cell_type": "markdown",
   "metadata": {},
   "source": [
    "<div class=\"alert alert-block alert-success\">\n",
    "<b>Comentario del revisor (1ra Iteración)</b> <a class=“tocSkip”></a>\n",
    "\n",
    "Valerio has contabilizado correctamente el registro de los libros.\n",
    "</div>"
   ]
  },
  {
   "cell_type": "markdown",
   "metadata": {},
   "source": [
    "Encuentra el número de reseñas de usuarios y la calificación promedio para cada libro."
   ]
  },
  {
   "cell_type": "code",
   "execution_count": 5,
   "metadata": {},
   "outputs": [
    {
     "data": {
      "text/html": [
       "<div>\n",
       "<style scoped>\n",
       "    .dataframe tbody tr th:only-of-type {\n",
       "        vertical-align: middle;\n",
       "    }\n",
       "\n",
       "    .dataframe tbody tr th {\n",
       "        vertical-align: top;\n",
       "    }\n",
       "\n",
       "    .dataframe thead th {\n",
       "        text-align: right;\n",
       "    }\n",
       "</style>\n",
       "<table border=\"1\" class=\"dataframe\">\n",
       "  <thead>\n",
       "    <tr style=\"text-align: right;\">\n",
       "      <th></th>\n",
       "      <th>book_id</th>\n",
       "      <th>num_reviews</th>\n",
       "      <th>average_rating</th>\n",
       "    </tr>\n",
       "  </thead>\n",
       "  <tbody>\n",
       "    <tr>\n",
       "      <th>0</th>\n",
       "      <td>1</td>\n",
       "      <td>6</td>\n",
       "      <td>3.666667</td>\n",
       "    </tr>\n",
       "    <tr>\n",
       "      <th>1</th>\n",
       "      <td>2</td>\n",
       "      <td>2</td>\n",
       "      <td>2.500000</td>\n",
       "    </tr>\n",
       "    <tr>\n",
       "      <th>2</th>\n",
       "      <td>3</td>\n",
       "      <td>9</td>\n",
       "      <td>4.666667</td>\n",
       "    </tr>\n",
       "    <tr>\n",
       "      <th>3</th>\n",
       "      <td>4</td>\n",
       "      <td>4</td>\n",
       "      <td>4.500000</td>\n",
       "    </tr>\n",
       "    <tr>\n",
       "      <th>4</th>\n",
       "      <td>5</td>\n",
       "      <td>24</td>\n",
       "      <td>4.000000</td>\n",
       "    </tr>\n",
       "  </tbody>\n",
       "</table>\n",
       "</div>"
      ],
      "text/plain": [
       "   book_id  num_reviews  average_rating\n",
       "0        1            6        3.666667\n",
       "1        2            2        2.500000\n",
       "2        3            9        4.666667\n",
       "3        4            4        4.500000\n",
       "4        5           24        4.000000"
      ]
     },
     "execution_count": 5,
     "metadata": {},
     "output_type": "execute_result"
    }
   ],
   "source": [
    "# Consulta para contar reseñas y calcular calificación promedio por libro\n",
    "query = \"\"\"\n",
    "SELECT \n",
    "    b.book_id,\n",
    "    COUNT(r.review_id) AS num_reviews,\n",
    "    AVG(rt.rating) AS average_rating\n",
    "FROM \n",
    "    books b\n",
    "LEFT JOIN \n",
    "    reviews r ON b.book_id = r.book_id\n",
    "LEFT JOIN \n",
    "    ratings rt ON b.book_id = rt.book_id\n",
    "GROUP BY \n",
    "    b.book_id\n",
    "ORDER BY \n",
    "    b.book_id;\n",
    "\"\"\"\n",
    "\n",
    "# Ejecutar la consulta y guardar el resultado en un DataFrame\n",
    "with engine.connect() as connection:\n",
    "    result = pd.read_sql(query, connection)\n",
    "\n",
    "# Mostrar el resultado\n",
    "result.head()"
   ]
  },
  {
   "cell_type": "markdown",
   "metadata": {},
   "source": [
    "Este análisis proporciona una visión clara de la interacción de los lectores con cada libro, destacando tanto la cantidad de reseñas como la calidad de las calificaciones."
   ]
  },
  {
   "cell_type": "markdown",
   "metadata": {},
   "source": [
    "<div class=\"alert alert-block alert-success\">\n",
    "<b>Comentario del revisor (1ra Iteración)</b> <a class=“tocSkip”></a>\n",
    "\n",
    "Buen trabajo obteniendo los datos en función de las reseñas y la calificación promedio.\n",
    "\n",
    "</div>"
   ]
  },
  {
   "cell_type": "markdown",
   "metadata": {},
   "source": [
    "Identifica la editorial que ha publicado el mayor número de libros con más de 50 páginas (esto te ayudará a excluir folletos y publicaciones similares de tu análisis)."
   ]
  },
  {
   "cell_type": "code",
   "execution_count": 6,
   "metadata": {},
   "outputs": [
    {
     "name": "stdout",
     "output_type": "stream",
     "text": [
      "La editorial que ha publicado el mayor número de libros con más de 50 páginas es:\n"
     ]
    },
    {
     "data": {
      "text/html": [
       "<div>\n",
       "<style scoped>\n",
       "    .dataframe tbody tr th:only-of-type {\n",
       "        vertical-align: middle;\n",
       "    }\n",
       "\n",
       "    .dataframe tbody tr th {\n",
       "        vertical-align: top;\n",
       "    }\n",
       "\n",
       "    .dataframe thead th {\n",
       "        text-align: right;\n",
       "    }\n",
       "</style>\n",
       "<table border=\"1\" class=\"dataframe\">\n",
       "  <thead>\n",
       "    <tr style=\"text-align: right;\">\n",
       "      <th></th>\n",
       "      <th>publisher_id</th>\n",
       "      <th>publisher</th>\n",
       "      <th>num_books</th>\n",
       "    </tr>\n",
       "  </thead>\n",
       "  <tbody>\n",
       "    <tr>\n",
       "      <th>0</th>\n",
       "      <td>212</td>\n",
       "      <td>Penguin Books</td>\n",
       "      <td>42</td>\n",
       "    </tr>\n",
       "  </tbody>\n",
       "</table>\n",
       "</div>"
      ],
      "text/plain": [
       "   publisher_id      publisher  num_books\n",
       "0           212  Penguin Books         42"
      ]
     },
     "execution_count": 6,
     "metadata": {},
     "output_type": "execute_result"
    }
   ],
   "source": [
    "# Consulta para identificar la editorial con el mayor número de libros de más de 50 páginas\n",
    "query = \"\"\"\n",
    "SELECT \n",
    "    p.publisher_id,\n",
    "    p.publisher,\n",
    "    COUNT(b.book_id) AS num_books\n",
    "FROM \n",
    "    publishers p\n",
    "JOIN \n",
    "    books b ON p.publisher_id = b.publisher_id\n",
    "WHERE \n",
    "    b.num_pages > 50\n",
    "GROUP BY \n",
    "    p.publisher_id, p.publisher\n",
    "ORDER BY \n",
    "    num_books DESC\n",
    "LIMIT 1;\n",
    "\"\"\"\n",
    "\n",
    "# Ejecutar la consulta y guardar el resultado en un DataFrame\n",
    "with engine.connect() as connection:\n",
    "    result = pd.read_sql(query, connection)\n",
    "\n",
    "# Mostrar el resultado\n",
    "print(\"La editorial que ha publicado el mayor número de libros con más de 50 páginas es:\")\n",
    "result.head()\n"
   ]
  },
  {
   "cell_type": "markdown",
   "metadata": {},
   "source": [
    "Este análisis permite evaluar la productividad de las editoriales en el segmento de libros más extensos, lo que puede ser relevante para entender tendencias en el mercado editorial."
   ]
  },
  {
   "cell_type": "markdown",
   "metadata": {},
   "source": [
    "<div class=\"alert alert-block alert-success\">\n",
    "<b>Comentario del revisor (1ra Iteración)</b> <a class=“tocSkip”></a>\n",
    "\n",
    "Excelente, has encontrado la editorial con mayor cantidad de publicaciones.\n",
    "\n",
    "</div>"
   ]
  },
  {
   "cell_type": "markdown",
   "metadata": {},
   "source": [
    "Identifica al autor que tiene la más alta calificación promedio del libro: mira solo los libros con al menos 50 calificaciones."
   ]
  },
  {
   "cell_type": "code",
   "execution_count": 7,
   "metadata": {},
   "outputs": [
    {
     "name": "stdout",
     "output_type": "stream",
     "text": [
      "El autor con la más alta calificación promedio (con al menos 50 calificaciones) es:\n"
     ]
    },
    {
     "data": {
      "text/html": [
       "<div>\n",
       "<style scoped>\n",
       "    .dataframe tbody tr th:only-of-type {\n",
       "        vertical-align: middle;\n",
       "    }\n",
       "\n",
       "    .dataframe tbody tr th {\n",
       "        vertical-align: top;\n",
       "    }\n",
       "\n",
       "    .dataframe thead th {\n",
       "        text-align: right;\n",
       "    }\n",
       "</style>\n",
       "<table border=\"1\" class=\"dataframe\">\n",
       "  <thead>\n",
       "    <tr style=\"text-align: right;\">\n",
       "      <th></th>\n",
       "      <th>author_id</th>\n",
       "      <th>author</th>\n",
       "      <th>average_rating</th>\n",
       "      <th>num_ratings</th>\n",
       "    </tr>\n",
       "  </thead>\n",
       "  <tbody>\n",
       "    <tr>\n",
       "      <th>0</th>\n",
       "      <td>130</td>\n",
       "      <td>Diana Gabaldon</td>\n",
       "      <td>4.3</td>\n",
       "      <td>50</td>\n",
       "    </tr>\n",
       "  </tbody>\n",
       "</table>\n",
       "</div>"
      ],
      "text/plain": [
       "   author_id          author  average_rating  num_ratings\n",
       "0        130  Diana Gabaldon             4.3           50"
      ]
     },
     "execution_count": 7,
     "metadata": {},
     "output_type": "execute_result"
    }
   ],
   "source": [
    "# Consulta para identificar al autor con la más alta calificación promedio\n",
    "query = \"\"\"\n",
    "SELECT \n",
    "    a.author_id,\n",
    "    a.author,\n",
    "    AVG(rt.rating) AS average_rating,\n",
    "    COUNT(rt.rating_id) AS num_ratings\n",
    "FROM \n",
    "    authors a\n",
    "JOIN \n",
    "    books b ON a.author_id = b.author_id\n",
    "JOIN \n",
    "    ratings rt ON b.book_id = rt.book_id\n",
    "GROUP BY \n",
    "    a.author_id, a.author\n",
    "HAVING \n",
    "    COUNT(rt.rating_id) >= 50\n",
    "ORDER BY \n",
    "    average_rating DESC\n",
    "LIMIT 1;\n",
    "\"\"\"\n",
    "\n",
    "# Ejecutar la consulta y guardar el resultado en un DataFrame\n",
    "with engine.connect() as connection:\n",
    "    result = pd.read_sql(query, connection)\n",
    "\n",
    "# Mostrar el resultado\n",
    "print(\"El autor con la más alta calificación promedio (con al menos 50 calificaciones) es:\")\n",
    "result.head()"
   ]
  },
  {
   "cell_type": "markdown",
   "metadata": {},
   "source": [
    "Este enfoque permite obtener una visión clara del desempeño de los autores en términos de calidad percibida por los lectores, excluyendo aquellos con menos interacciones, lo que podría sesgar los resultados."
   ]
  },
  {
   "cell_type": "markdown",
   "metadata": {},
   "source": [
    "<div class=\"alert alert-block alert-success\">\n",
    "<b>Comentario del revisor (1ra Iteración)</b> <a class=“tocSkip”></a>\n",
    "\n",
    "Excelente trabajo usando `JOIN` par crear subtables, integrandolas con las cláusulas `HAVING` y `GROUP BY`\n",
    "\n",
    "</div>"
   ]
  },
  {
   "cell_type": "markdown",
   "metadata": {},
   "source": [
    "Encuentra el número promedio de reseñas de texto entre los usuarios que calificaron más de 50 libros."
   ]
  },
  {
   "cell_type": "code",
   "execution_count": 8,
   "metadata": {},
   "outputs": [
    {
     "name": "stdout",
     "output_type": "stream",
     "text": [
      "El número promedio de reseñas de texto entre los usuarios que calificaron más de 50 libros es:\n"
     ]
    },
    {
     "data": {
      "text/html": [
       "<div>\n",
       "<style scoped>\n",
       "    .dataframe tbody tr th:only-of-type {\n",
       "        vertical-align: middle;\n",
       "    }\n",
       "\n",
       "    .dataframe tbody tr th {\n",
       "        vertical-align: top;\n",
       "    }\n",
       "\n",
       "    .dataframe thead th {\n",
       "        text-align: right;\n",
       "    }\n",
       "</style>\n",
       "<table border=\"1\" class=\"dataframe\">\n",
       "  <thead>\n",
       "    <tr style=\"text-align: right;\">\n",
       "      <th></th>\n",
       "      <th>average_reviews</th>\n",
       "    </tr>\n",
       "  </thead>\n",
       "  <tbody>\n",
       "    <tr>\n",
       "      <th>0</th>\n",
       "      <td>24.333333</td>\n",
       "    </tr>\n",
       "  </tbody>\n",
       "</table>\n",
       "</div>"
      ],
      "text/plain": [
       "   average_reviews\n",
       "0        24.333333"
      ]
     },
     "execution_count": 8,
     "metadata": {},
     "output_type": "execute_result"
    }
   ],
   "source": [
    "# Consulta para encontrar el número promedio de reseñas de texto entre los usuarios que calificaron más de 50 libros\n",
    "query = \"\"\"\n",
    "WITH users_with_high_ratings AS (\n",
    "    SELECT \n",
    "        rt.username\n",
    "    FROM \n",
    "        ratings rt\n",
    "    GROUP BY \n",
    "        rt.username\n",
    "    HAVING \n",
    "        COUNT(rt.book_id) > 50\n",
    ")\n",
    "SELECT \n",
    "    AVG(review_count) AS average_reviews\n",
    "FROM (\n",
    "    SELECT \n",
    "        r.username,\n",
    "        COUNT(r.review_id) AS review_count\n",
    "    FROM \n",
    "        reviews r\n",
    "    JOIN \n",
    "        users_with_high_ratings u ON r.username = u.username\n",
    "    GROUP BY \n",
    "        r.username\n",
    ") AS review_counts;\n",
    "\"\"\"\n",
    "\n",
    "# Ejecutar la consulta y guardar el resultado en un DataFrame\n",
    "with engine.connect() as connection:\n",
    "    result = pd.read_sql(query, connection)\n",
    "\n",
    "# Mostrar el resultado\n",
    "print(\"El número promedio de reseñas de texto entre los usuarios que calificaron más de 50 libros es:\")\n",
    "result.head()"
   ]
  },
  {
   "cell_type": "markdown",
   "metadata": {},
   "source": [
    "muestra que los usuarios que califican más de 50 libros suelen ser más activos y comprometidos con la comunidad literaria. Esto se traduce en una mayor probabilidad de dejar reseñas, lo que indica una interacción más profunda con el contenido. Al analizar el promedio de reseñas de estos usuarios, se puede concluir que su participación no solo enriquece su propia experiencia, sino que también contribuye al intercambio literario, mejorando la calidad de la retroalimentación en las plataformas de lectura."
   ]
  },
  {
   "cell_type": "markdown",
   "metadata": {},
   "source": [
    "<div class=\"alert alert-block alert-success\">\n",
    "<b>Comentario del revisor (1ra Iteración)</b> <a class=“tocSkip”></a>\n",
    "\n",
    "Perfecta forma de usar el `LEFT JOIN` muy buen trabjo Pamela\n",
    "\n",
    "</div>"
   ]
  }
 ],
 "metadata": {
  "ExecuteTimeLog": [
   {
    "duration": 3,
    "start_time": "2024-12-23T06:24:14.620Z"
   },
   {
    "duration": 8,
    "start_time": "2024-12-23T06:29:05.406Z"
   },
   {
    "duration": 3,
    "start_time": "2024-12-23T06:29:34.069Z"
   },
   {
    "duration": 159,
    "start_time": "2024-12-23T06:30:10.004Z"
   },
   {
    "duration": 12,
    "start_time": "2024-12-23T06:30:10.556Z"
   },
   {
    "duration": 4,
    "start_time": "2024-12-23T06:31:04.229Z"
   },
   {
    "duration": 13,
    "start_time": "2024-12-23T06:31:10.419Z"
   },
   {
    "duration": 378,
    "start_time": "2024-12-23T06:32:01.446Z"
   },
   {
    "duration": 26,
    "start_time": "2024-12-23T06:32:01.957Z"
   },
   {
    "duration": 41,
    "start_time": "2024-12-23T06:32:02.940Z"
   },
   {
    "duration": 12,
    "start_time": "2024-12-23T06:32:35.631Z"
   },
   {
    "duration": 18,
    "start_time": "2024-12-23T06:38:29.015Z"
   },
   {
    "duration": 3,
    "start_time": "2024-12-23T06:38:42.168Z"
   },
   {
    "duration": 12,
    "start_time": "2024-12-23T06:38:45.160Z"
   },
   {
    "duration": 742,
    "start_time": "2024-12-23T06:39:42.360Z"
   },
   {
    "duration": 218,
    "start_time": "2024-12-23T06:40:00.009Z"
   },
   {
    "duration": 3,
    "start_time": "2024-12-23T06:46:40.990Z"
   },
   {
    "duration": 4,
    "start_time": "2024-12-23T06:47:11.402Z"
   },
   {
    "duration": 227,
    "start_time": "2024-12-23T06:47:29.835Z"
   },
   {
    "duration": 3,
    "start_time": "2024-12-23T06:53:41.414Z"
   },
   {
    "duration": 5,
    "start_time": "2024-12-23T06:53:46.174Z"
   },
   {
    "duration": 4,
    "start_time": "2024-12-23T06:54:29.333Z"
   },
   {
    "duration": 258,
    "start_time": "2024-12-23T06:57:17.157Z"
   },
   {
    "duration": 221,
    "start_time": "2024-12-23T07:02:43.401Z"
   },
   {
    "duration": 223,
    "start_time": "2024-12-23T07:03:51.625Z"
   },
   {
    "duration": 329,
    "start_time": "2024-12-23T07:04:22.898Z"
   },
   {
    "duration": 21,
    "start_time": "2024-12-23T07:04:23.229Z"
   },
   {
    "duration": 193,
    "start_time": "2024-12-23T07:04:23.252Z"
   },
   {
    "duration": 12,
    "start_time": "2024-12-23T07:04:38.712Z"
   },
   {
    "duration": 746,
    "start_time": "2024-12-23T07:06:44.521Z"
   },
   {
    "duration": 330,
    "start_time": "2024-12-23T07:07:13.283Z"
   },
   {
    "duration": 22,
    "start_time": "2024-12-23T07:07:13.615Z"
   },
   {
    "duration": 905,
    "start_time": "2024-12-23T07:07:13.639Z"
   },
   {
    "duration": 343,
    "start_time": "2024-12-23T07:08:08.660Z"
   },
   {
    "duration": 24,
    "start_time": "2024-12-23T07:08:09.005Z"
   },
   {
    "duration": 921,
    "start_time": "2024-12-23T07:08:09.031Z"
   },
   {
    "duration": 225,
    "start_time": "2024-12-23T07:09:43.804Z"
   },
   {
    "duration": 223,
    "start_time": "2024-12-23T07:15:02.509Z"
   },
   {
    "duration": 335,
    "start_time": "2024-12-23T07:27:34.385Z"
   },
   {
    "duration": 21,
    "start_time": "2024-12-23T07:27:34.723Z"
   },
   {
    "duration": 918,
    "start_time": "2024-12-23T07:27:34.746Z"
   },
   {
    "duration": 231,
    "start_time": "2024-12-23T07:38:30.154Z"
   },
   {
    "duration": 376,
    "start_time": "2024-12-23T07:38:54.133Z"
   },
   {
    "duration": 3,
    "start_time": "2024-12-23T07:38:54.511Z"
   },
   {
    "duration": 923,
    "start_time": "2024-12-23T07:38:54.516Z"
   },
   {
    "duration": 373,
    "start_time": "2024-12-23T07:41:11.039Z"
   },
   {
    "duration": 4,
    "start_time": "2024-12-23T07:41:11.414Z"
   },
   {
    "duration": 933,
    "start_time": "2024-12-23T07:41:11.419Z"
   },
   {
    "duration": 224,
    "start_time": "2024-12-23T07:55:40.555Z"
   },
   {
    "duration": 4,
    "start_time": "2024-12-23T07:59:56.228Z"
   },
   {
    "duration": 220,
    "start_time": "2024-12-23T08:11:03.857Z"
   },
   {
    "duration": 221,
    "start_time": "2024-12-23T08:19:24.604Z"
   },
   {
    "duration": 4,
    "start_time": "2024-12-23T08:20:31.016Z"
   },
   {
    "duration": 222,
    "start_time": "2024-12-23T08:20:35.486Z"
   },
   {
    "duration": 3,
    "start_time": "2024-12-23T08:21:03.073Z"
   },
   {
    "duration": 216,
    "start_time": "2024-12-23T08:21:14.795Z"
   },
   {
    "duration": 4,
    "start_time": "2024-12-23T08:21:38.498Z"
   },
   {
    "duration": 4,
    "start_time": "2024-12-23T08:25:45.180Z"
   },
   {
    "duration": 156,
    "start_time": "2024-12-23T08:26:05.601Z"
   },
   {
    "duration": 14,
    "start_time": "2024-12-23T08:26:20.346Z"
   },
   {
    "duration": 363,
    "start_time": "2024-12-23T08:26:29.546Z"
   },
   {
    "duration": 22,
    "start_time": "2024-12-23T08:26:29.911Z"
   },
   {
    "duration": 188,
    "start_time": "2024-12-23T08:26:29.934Z"
   },
   {
    "duration": 1,
    "start_time": "2024-12-23T08:26:30.123Z"
   },
   {
    "duration": 3,
    "start_time": "2024-12-23T08:31:04.147Z"
   },
   {
    "duration": 2,
    "start_time": "2024-12-23T08:31:24.187Z"
   },
   {
    "duration": 14,
    "start_time": "2024-12-23T08:44:49.680Z"
   },
   {
    "duration": 4,
    "start_time": "2024-12-23T08:44:57.455Z"
   },
   {
    "duration": 611,
    "start_time": "2024-12-23T08:44:58.099Z"
   },
   {
    "duration": 5,
    "start_time": "2024-12-23T08:56:20.010Z"
   },
   {
    "duration": 2398,
    "start_time": "2024-12-23T08:56:27.956Z"
   },
   {
    "duration": 1041,
    "start_time": "2024-12-23T08:56:54.003Z"
   },
   {
    "duration": 398,
    "start_time": "2024-12-23T08:59:29.324Z"
   },
   {
    "duration": 533,
    "start_time": "2024-12-23T09:00:41.804Z"
   },
   {
    "duration": 680,
    "start_time": "2024-12-23T09:02:33.765Z"
   },
   {
    "duration": 721,
    "start_time": "2024-12-23T09:02:53.601Z"
   },
   {
    "duration": 535,
    "start_time": "2024-12-23T09:04:07.396Z"
   },
   {
    "duration": 536,
    "start_time": "2024-12-23T09:04:24.360Z"
   },
   {
    "duration": 539,
    "start_time": "2024-12-23T09:05:16.957Z"
   },
   {
    "duration": 541,
    "start_time": "2024-12-23T09:05:27.159Z"
   },
   {
    "duration": 536,
    "start_time": "2024-12-23T09:06:22.528Z"
   },
   {
    "duration": 539,
    "start_time": "2024-12-23T09:06:32.909Z"
   },
   {
    "duration": 334,
    "start_time": "2025-02-04T06:39:45.913Z"
   },
   {
    "duration": 31,
    "start_time": "2025-02-04T06:39:46.250Z"
   },
   {
    "duration": 2350,
    "start_time": "2025-02-04T06:39:46.283Z"
   },
   {
    "duration": 525,
    "start_time": "2025-02-04T06:39:48.636Z"
   },
   {
    "duration": 714,
    "start_time": "2025-02-04T06:39:49.163Z"
   },
   {
    "duration": 529,
    "start_time": "2025-02-04T06:39:49.878Z"
   },
   {
    "duration": 533,
    "start_time": "2025-02-04T06:39:50.409Z"
   },
   {
    "duration": 529,
    "start_time": "2025-02-04T06:39:50.945Z"
   }
  ],
  "kernelspec": {
   "display_name": "Python 3",
   "language": "python",
   "name": "python3"
  },
  "language_info": {
   "codemirror_mode": {
    "name": "ipython",
    "version": 3
   },
   "file_extension": ".py",
   "mimetype": "text/x-python",
   "name": "python",
   "nbconvert_exporter": "python",
   "pygments_lexer": "ipython3",
   "version": "3.13.2"
  },
  "toc": {
   "base_numbering": 1,
   "nav_menu": {},
   "number_sections": true,
   "sideBar": true,
   "skip_h1_title": true,
   "title_cell": "Table of Contents",
   "title_sidebar": "Contents",
   "toc_cell": false,
   "toc_position": {},
   "toc_section_display": true,
   "toc_window_display": false
  }
 },
 "nbformat": 4,
 "nbformat_minor": 2
}
